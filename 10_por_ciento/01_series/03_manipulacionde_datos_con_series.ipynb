{
 "cells": [
  {
   "cell_type": "markdown",
   "metadata": {},
   "source": [
    "# MANIPULACIÓN DE DATOS EN SERIES DE PANDAS "
   ]
  },
  {
   "cell_type": "markdown",
   "metadata": {},
   "source": [
    "# Importación de librerias y  modulos "
   ]
  },
  {
   "cell_type": "code",
   "execution_count": 1,
   "metadata": {},
   "outputs": [],
   "source": [
    "import pandas as pd\n",
    "import numpy as np"
   ]
  },
  {
   "cell_type": "markdown",
   "metadata": {},
   "source": [
    "# Series a usar "
   ]
  },
  {
   "cell_type": "code",
   "execution_count": 2,
   "metadata": {},
   "outputs": [],
   "source": [
    "numeros = [1,2,3,4,5,6,7,8,9,10,20,30,40,50,60]\n",
    "ciudades_mexico = ['Monterrey','Villahemrosa','Culiacan','Puebla','Merida','Guadalajara','Veracruz','Tuxtla','Campeche']\n",
    "paises = ['Alemania','Portugal','Panama','El Salvador','Canada','Japón','China','Filipinas','Rusia','Nigeria','Sudafrica']\n",
    "astros = ['Sol','Jupiter','Urano','Tierra','Marte','Plutón','Gamenides','Europa','Luna']\n",
    "animales_mascotas = ['Gato','Perico','Perro','Hamster','Conejo']\n",
    "\n",
    "serie_numeros = pd.Series(numeros)\n",
    "serie_ciudades_mexico = pd.Series(ciudades_mexico)\n",
    "serie_paises = pd.Series(paises)\n",
    "serie_astros = pd.Series(astros)\n",
    "serie_animales_mascota = pd.Series(animales_mascotas)"
   ]
  },
  {
   "cell_type": "markdown",
   "metadata": {},
   "source": [
    "# Practica 01: Cambiar valores en una serie "
   ]
  },
  {
   "cell_type": "markdown",
   "metadata": {},
   "source": [
    "## SERIE NUMEROS"
   ]
  },
  {
   "cell_type": "markdown",
   "metadata": {},
   "source": [
    "Utilizando la serie numeros:\n",
    "\n",
    "1.- imprime la serie para ver los valores que contiene\n",
    "2.- Identifica el valor que se encuentra en la posición 4\n",
    "3.- Sustituye el valor de la posición 4 por el resultado de 3 + 5 almacenado en la variable suma\n",
    "4.- Imprime de nuevo la serie para validar que se realizara la sustitución "
   ]
  },
  {
   "cell_type": "code",
   "execution_count": 7,
   "metadata": {},
   "outputs": [
    {
     "name": "stdout",
     "output_type": "stream",
     "text": [
      "0      1\n",
      "1      2\n",
      "2      3\n",
      "3      4\n",
      "4      5\n",
      "5      6\n",
      "6      7\n",
      "7      8\n",
      "8      9\n",
      "9     10\n",
      "10    20\n",
      "11    30\n",
      "12    40\n",
      "13    50\n",
      "14    60\n",
      "dtype: int64\n"
     ]
    }
   ],
   "source": [
    "print(serie_numeros)"
   ]
  },
  {
   "cell_type": "code",
   "execution_count": 8,
   "metadata": {},
   "outputs": [
    {
     "data": {
      "text/plain": [
       "8"
      ]
     },
     "execution_count": 8,
     "metadata": {},
     "output_type": "execute_result"
    }
   ],
   "source": [
    "suma = 3 + 5\n",
    "suma"
   ]
  },
  {
   "cell_type": "code",
   "execution_count": 10,
   "metadata": {},
   "outputs": [
    {
     "data": {
      "text/plain": [
       "0      1\n",
       "1      2\n",
       "2      3\n",
       "3      4\n",
       "4      8\n",
       "5      6\n",
       "6      7\n",
       "7      8\n",
       "8      9\n",
       "9     10\n",
       "10    20\n",
       "11    30\n",
       "12    40\n",
       "13    50\n",
       "14    60\n",
       "dtype: int64"
      ]
     },
     "execution_count": 10,
     "metadata": {},
     "output_type": "execute_result"
    }
   ],
   "source": [
    "serie_numeros[4] = suma\n",
    "serie_numeros"
   ]
  },
  {
   "cell_type": "markdown",
   "metadata": {},
   "source": [
    "## SERIE CIUDADES MEXICO"
   ]
  },
  {
   "cell_type": "markdown",
   "metadata": {},
   "source": [
    "Utilizando la serie ciudades México:\n",
    "\n",
    "1.- imprime la serie para ver los valores que contiene\n",
    "2.- Identifica el valor que se encuentra en la posición 8\n",
    "3.- Sustituye el valor de la posición 4 por el nombre de una ciudad no contenido en la serie\n",
    "4.- Imprime de nuevo la serie para validar que se realizara la sustitución "
   ]
  },
  {
   "cell_type": "code",
   "execution_count": 19,
   "metadata": {},
   "outputs": [
    {
     "name": "stdout",
     "output_type": "stream",
     "text": [
      "0       Monterrey\n",
      "1    Villahemrosa\n",
      "2        Culiacan\n",
      "3          Puebla\n",
      "4          Merida\n",
      "5     Guadalajara\n",
      "6        Veracruz\n",
      "7          Tuxtla\n",
      "8        Campeche\n",
      "dtype: object\n"
     ]
    }
   ],
   "source": [
    "print(serie_ciudades_mexico)"
   ]
  },
  {
   "cell_type": "code",
   "execution_count": 20,
   "metadata": {},
   "outputs": [
    {
     "data": {
      "text/plain": [
       "0       Monterrey\n",
       "1    Villahemrosa\n",
       "2        Culiacan\n",
       "3          Puebla\n",
       "4          Merida\n",
       "5     Guadalajara\n",
       "6        Veracruz\n",
       "7          Tuxtla\n",
       "8          La Paz\n",
       "dtype: object"
      ]
     },
     "execution_count": 20,
     "metadata": {},
     "output_type": "execute_result"
    }
   ],
   "source": [
    "serie_ciudades_mexico[8] = \"La Paz\"\n",
    "serie_ciudades_mexico"
   ]
  },
  {
   "cell_type": "markdown",
   "metadata": {},
   "source": [
    "## SERIE PAISES"
   ]
  },
  {
   "cell_type": "markdown",
   "metadata": {},
   "source": [
    "Utilizando la serie paises:\n",
    "\n",
    "1.- imprime la serie para ver los valores que contiene\n",
    "2.- Identifica el valor que se encuentra en la posición 3\n",
    "3.- Sustituye el valor de la posición 3 por el nombre de un país de medio oriente\n",
    "4.- Imprime de nuevo la serie para validar que se realizara la sustitución "
   ]
  },
  {
   "cell_type": "code",
   "execution_count": 21,
   "metadata": {},
   "outputs": [
    {
     "data": {
      "text/plain": [
       "0        Alemania\n",
       "1        Portugal\n",
       "2          Panama\n",
       "3     El Salvador\n",
       "4          Canada\n",
       "5           Japón\n",
       "6           China\n",
       "7       Filipinas\n",
       "8           Rusia\n",
       "9         Nigeria\n",
       "10      Sudafrica\n",
       "dtype: object"
      ]
     },
     "execution_count": 21,
     "metadata": {},
     "output_type": "execute_result"
    }
   ],
   "source": [
    "serie_paises"
   ]
  },
  {
   "cell_type": "code",
   "execution_count": 22,
   "metadata": {},
   "outputs": [
    {
     "data": {
      "text/plain": [
       "'El Salvador'"
      ]
     },
     "execution_count": 22,
     "metadata": {},
     "output_type": "execute_result"
    }
   ],
   "source": [
    "serie_paises[3]"
   ]
  },
  {
   "cell_type": "code",
   "execution_count": 23,
   "metadata": {},
   "outputs": [
    {
     "data": {
      "text/plain": [
       "0      Alemania\n",
       "1      Portugal\n",
       "2        Panama\n",
       "3        Israel\n",
       "4        Canada\n",
       "5         Japón\n",
       "6         China\n",
       "7     Filipinas\n",
       "8         Rusia\n",
       "9       Nigeria\n",
       "10    Sudafrica\n",
       "dtype: object"
      ]
     },
     "execution_count": 23,
     "metadata": {},
     "output_type": "execute_result"
    }
   ],
   "source": [
    "serie_paises[3] = \"Israel\"\n",
    "serie_paises"
   ]
  },
  {
   "cell_type": "markdown",
   "metadata": {},
   "source": [
    "## SERIE ASTROS"
   ]
  },
  {
   "cell_type": "markdown",
   "metadata": {},
   "source": [
    "Utilizando la serie astros:\n",
    "\n",
    "1.- imprime la serie para ver los valores que contiene\n",
    "2.- Identifica el primer vaor de la serie\n",
    "3.- Sustituye el valor de la posición 0 por el nombre de una galaxia\n",
    "4.- Imprime de nuevo la serie para validar que se realizó la sustitución "
   ]
  },
  {
   "cell_type": "code",
   "execution_count": 24,
   "metadata": {},
   "outputs": [
    {
     "data": {
      "text/plain": [
       "0          Sol\n",
       "1      Jupiter\n",
       "2        Urano\n",
       "3       Tierra\n",
       "4        Marte\n",
       "5       Plutón\n",
       "6    Gamenides\n",
       "7       Europa\n",
       "8         Luna\n",
       "dtype: object"
      ]
     },
     "execution_count": 24,
     "metadata": {},
     "output_type": "execute_result"
    }
   ],
   "source": [
    "serie_astros"
   ]
  },
  {
   "cell_type": "code",
   "execution_count": 25,
   "metadata": {},
   "outputs": [
    {
     "data": {
      "text/plain": [
       "'Sol'"
      ]
     },
     "execution_count": 25,
     "metadata": {},
     "output_type": "execute_result"
    }
   ],
   "source": [
    "serie_astros[0]"
   ]
  },
  {
   "cell_type": "code",
   "execution_count": 26,
   "metadata": {},
   "outputs": [
    {
     "data": {
      "text/plain": [
       "0    Alpha centauri\n",
       "1           Jupiter\n",
       "2             Urano\n",
       "3            Tierra\n",
       "4             Marte\n",
       "5            Plutón\n",
       "6         Gamenides\n",
       "7            Europa\n",
       "8              Luna\n",
       "dtype: object"
      ]
     },
     "execution_count": 26,
     "metadata": {},
     "output_type": "execute_result"
    }
   ],
   "source": [
    "serie_astros[0] = \"Alpha centauri\"\n",
    "serie_astros"
   ]
  },
  {
   "cell_type": "markdown",
   "metadata": {},
   "source": [
    "## SERIE ANIMALES MASCOTAS"
   ]
  },
  {
   "cell_type": "markdown",
   "metadata": {},
   "source": [
    "Utilizando la serie animales mascotas:\n",
    "\n",
    "1.- imprime la serie para ver los valores que contiene\n",
    "2.- Identifica el valor que se encuentra en la posición 2\n",
    "3.- Sustituye el valor de la posición 2 por el nombre de un animal mascota no contenido en la serie\n",
    "4.- Imprime de nuevo la serie para validar que se realizara la sustitución "
   ]
  },
  {
   "cell_type": "code",
   "execution_count": 27,
   "metadata": {},
   "outputs": [
    {
     "data": {
      "text/plain": [
       "0       Gato\n",
       "1     Perico\n",
       "2      Perro\n",
       "3    Hamster\n",
       "4     Conejo\n",
       "dtype: object"
      ]
     },
     "execution_count": 27,
     "metadata": {},
     "output_type": "execute_result"
    }
   ],
   "source": [
    "serie_animales_mascota"
   ]
  },
  {
   "cell_type": "code",
   "execution_count": 28,
   "metadata": {},
   "outputs": [
    {
     "data": {
      "text/plain": [
       "'Perro'"
      ]
     },
     "execution_count": 28,
     "metadata": {},
     "output_type": "execute_result"
    }
   ],
   "source": [
    "serie_animales_mascota[2]"
   ]
  },
  {
   "cell_type": "code",
   "execution_count": 29,
   "metadata": {},
   "outputs": [
    {
     "data": {
      "text/plain": [
       "0       Gato\n",
       "1     Perico\n",
       "2    Canario\n",
       "3    Hamster\n",
       "4     Conejo\n",
       "dtype: object"
      ]
     },
     "execution_count": 29,
     "metadata": {},
     "output_type": "execute_result"
    }
   ],
   "source": [
    "serie_animales_mascota[2] = \"Canario\"\n",
    "serie_animales_mascota"
   ]
  },
  {
   "cell_type": "markdown",
   "metadata": {},
   "source": [
    "# Practica 02: Agregar nuevos elementos"
   ]
  },
  {
   "cell_type": "markdown",
   "metadata": {},
   "source": [
    "## SERIE NUMEROS"
   ]
  },
  {
   "cell_type": "markdown",
   "metadata": {},
   "source": [
    "Usa la serie numeros para agregar de forma directa un nuevo valor a la serie "
   ]
  },
  {
   "cell_type": "code",
   "execution_count": 3,
   "metadata": {},
   "outputs": [
    {
     "data": {
      "text/plain": [
       "0      1\n",
       "1      2\n",
       "2      3\n",
       "3      4\n",
       "4      5\n",
       "5      6\n",
       "6      7\n",
       "7      8\n",
       "8      9\n",
       "9     10\n",
       "10    20\n",
       "11    30\n",
       "12    40\n",
       "13    50\n",
       "14    60\n",
       "dtype: int64"
      ]
     },
     "execution_count": 3,
     "metadata": {},
     "output_type": "execute_result"
    }
   ],
   "source": [
    "serie_numeros"
   ]
  },
  {
   "cell_type": "code",
   "execution_count": 4,
   "metadata": {},
   "outputs": [
    {
     "data": {
      "text/plain": [
       "0       1\n",
       "1       2\n",
       "2       3\n",
       "3       4\n",
       "4       5\n",
       "5       6\n",
       "6       7\n",
       "7       8\n",
       "8       9\n",
       "9      10\n",
       "10     20\n",
       "11     30\n",
       "12     40\n",
       "13     50\n",
       "14     60\n",
       "15    200\n",
       "dtype: int64"
      ]
     },
     "execution_count": 4,
     "metadata": {},
     "output_type": "execute_result"
    }
   ],
   "source": [
    "serie_numeros[15] = 200\n",
    "serie_numeros"
   ]
  },
  {
   "cell_type": "markdown",
   "metadata": {},
   "source": [
    "## SERIE CIUDADES MEXICO"
   ]
  },
  {
   "cell_type": "markdown",
   "metadata": {},
   "source": [
    "## SERIE PAISES"
   ]
  },
  {
   "cell_type": "markdown",
   "metadata": {},
   "source": [
    "## SERIE ASTROS"
   ]
  },
  {
   "cell_type": "markdown",
   "metadata": {},
   "source": [
    "## SERIE ANIMALES MASCOTAS"
   ]
  },
  {
   "cell_type": "markdown",
   "metadata": {},
   "source": [
    "# Practica 03: Eliminar elemntos "
   ]
  },
  {
   "cell_type": "markdown",
   "metadata": {},
   "source": [
    "## SERIE NUMEROS"
   ]
  },
  {
   "cell_type": "markdown",
   "metadata": {},
   "source": [
    "## SERIE CIUDADES MEXICO"
   ]
  },
  {
   "cell_type": "markdown",
   "metadata": {},
   "source": [
    "## SERIE PAISES "
   ]
  },
  {
   "cell_type": "markdown",
   "metadata": {},
   "source": [
    "## SERIE ASTROS "
   ]
  },
  {
   "cell_type": "markdown",
   "metadata": {},
   "source": [
    "## SERIE ANIMALES MASCOTA"
   ]
  },
  {
   "cell_type": "markdown",
   "metadata": {},
   "source": [
    "# Practica 04: Renombrar indices "
   ]
  },
  {
   "cell_type": "markdown",
   "metadata": {},
   "source": [
    "## SERIE NUMEROS"
   ]
  },
  {
   "cell_type": "markdown",
   "metadata": {},
   "source": [
    "## SERIE CIUDADES MEXICO"
   ]
  },
  {
   "cell_type": "markdown",
   "metadata": {},
   "source": [
    "## SERIE PAISES"
   ]
  },
  {
   "cell_type": "markdown",
   "metadata": {},
   "source": [
    "## SERIE ASTROS"
   ]
  },
  {
   "cell_type": "markdown",
   "metadata": {},
   "source": [
    "## SERIE ANIMALES MASCOTA"
   ]
  },
  {
   "cell_type": "markdown",
   "metadata": {},
   "source": [
    "# Practica 05: Reordenar la serie "
   ]
  },
  {
   "cell_type": "markdown",
   "metadata": {},
   "source": [
    "## SERIE NUMEROS"
   ]
  },
  {
   "cell_type": "markdown",
   "metadata": {},
   "source": [
    "## SERIE CIUDADES MEXICO"
   ]
  },
  {
   "cell_type": "markdown",
   "metadata": {},
   "source": [
    "## SERIE PAISES"
   ]
  },
  {
   "cell_type": "markdown",
   "metadata": {},
   "source": [
    "## SERIE ASTROS "
   ]
  },
  {
   "cell_type": "markdown",
   "metadata": {},
   "source": [
    "## SERIE ANIMALES MASCOTA"
   ]
  }
 ],
 "metadata": {
  "kernelspec": {
   "display_name": "venv_pandas_ciEN",
   "language": "python",
   "name": "python3"
  },
  "language_info": {
   "codemirror_mode": {
    "name": "ipython",
    "version": 3
   },
   "file_extension": ".py",
   "mimetype": "text/x-python",
   "name": "python",
   "nbconvert_exporter": "python",
   "pygments_lexer": "ipython3",
   "version": "3.12.1"
  }
 },
 "nbformat": 4,
 "nbformat_minor": 2
}
