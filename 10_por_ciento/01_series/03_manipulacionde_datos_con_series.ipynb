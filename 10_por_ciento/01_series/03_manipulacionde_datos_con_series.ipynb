{
 "cells": [
  {
   "cell_type": "markdown",
   "metadata": {},
   "source": [
    "# MANIPULACIÓN DE DATOS EN SERIES DE PANDAS "
   ]
  },
  {
   "cell_type": "markdown",
   "metadata": {},
   "source": [
    "# Importación de librerias y  modulos "
   ]
  },
  {
   "cell_type": "code",
   "execution_count": 2,
   "metadata": {},
   "outputs": [],
   "source": [
    "import pandas as np\n",
    "import numpy as np"
   ]
  },
  {
   "cell_type": "markdown",
   "metadata": {},
   "source": [
    "# Series a usar "
   ]
  },
  {
   "cell_type": "code",
   "execution_count": null,
   "metadata": {},
   "outputs": [],
   "source": [
    "numeros = [0,1,2,3,4,5,6,7,8,9,10,20,30,40,50,60]\n",
    "ciudades_mexico = ['Monterrey','Villahemrosa','Culiacan','Puebla','Merida','Guadalajara','Veracruz','Tuxtla','Campeche']\n",
    "paises = ['Alemania','Portugal','Panama','El Salvador','Canada','Japón','China','Filipinas','Rusia','Nigeria','Sudafrica']\n",
    "astros = ['Sol','Jupiter','Urano','Tierra','Marte','Plutón','Gamenides','Europa','Luna']\n",
    "animales_mascotas = ['Gato','Perico','Perro','Hamster','Conejo']"
   ]
  },
  {
   "cell_type": "markdown",
   "metadata": {},
   "source": [
    "# Practica 01: Cambiar valores en una serie "
   ]
  },
  {
   "cell_type": "markdown",
   "metadata": {},
   "source": [
    "# Practica 02: Agregar nuevos elementos"
   ]
  },
  {
   "cell_type": "markdown",
   "metadata": {},
   "source": [
    "# Practica 03: Eliminar elemntos "
   ]
  },
  {
   "cell_type": "markdown",
   "metadata": {},
   "source": [
    "# Practica 04: Renombrar indices "
   ]
  },
  {
   "cell_type": "markdown",
   "metadata": {},
   "source": [
    "# Practica 05: Reordenar la serie "
   ]
  }
 ],
 "metadata": {
  "kernelspec": {
   "display_name": "venv_pandas_ciEN",
   "language": "python",
   "name": "python3"
  },
  "language_info": {
   "codemirror_mode": {
    "name": "ipython",
    "version": 3
   },
   "file_extension": ".py",
   "mimetype": "text/x-python",
   "name": "python",
   "nbconvert_exporter": "python",
   "pygments_lexer": "ipython3",
   "version": "3.12.1"
  }
 },
 "nbformat": 4,
 "nbformat_minor": 2
}
