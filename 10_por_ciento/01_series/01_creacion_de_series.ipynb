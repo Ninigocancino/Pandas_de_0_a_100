{
 "cells": [
  {
   "cell_type": "markdown",
   "metadata": {},
   "source": [
    "# Importación de librerias y modulos"
   ]
  },
  {
   "cell_type": "code",
   "execution_count": 12,
   "metadata": {},
   "outputs": [],
   "source": [
    "import pandas as pd\n",
    "import numpy as np "
   ]
  },
  {
   "cell_type": "markdown",
   "metadata": {},
   "source": [
    "# Practica 01: Creación de series vacias"
   ]
  },
  {
   "cell_type": "markdown",
   "metadata": {},
   "source": [
    "## Crea 5 series vacias "
   ]
  },
  {
   "cell_type": "code",
   "execution_count": 3,
   "metadata": {},
   "outputs": [
    {
     "name": "stdout",
     "output_type": "stream",
     "text": [
      "Series([], dtype: object)\n"
     ]
    }
   ],
   "source": [
    "vacia_2 = pd.Series()\n",
    "print(vacia_2)"
   ]
  },
  {
   "cell_type": "code",
   "execution_count": 4,
   "metadata": {},
   "outputs": [
    {
     "name": "stdout",
     "output_type": "stream",
     "text": [
      "Series([], dtype: object)\n"
     ]
    }
   ],
   "source": [
    "vacia_3 = pd.Series()\n",
    "print(vacia_3)"
   ]
  },
  {
   "cell_type": "code",
   "execution_count": 5,
   "metadata": {},
   "outputs": [
    {
     "data": {
      "text/plain": [
       "Series([], dtype: object)"
      ]
     },
     "execution_count": 5,
     "metadata": {},
     "output_type": "execute_result"
    }
   ],
   "source": [
    "vacia_4 = pd.Series()\n",
    "vacia_4"
   ]
  },
  {
   "cell_type": "code",
   "execution_count": 6,
   "metadata": {},
   "outputs": [
    {
     "data": {
      "text/plain": [
       "Series([], dtype: object)"
      ]
     },
     "execution_count": 6,
     "metadata": {},
     "output_type": "execute_result"
    }
   ],
   "source": [
    "vacia_5 = pd.Series()\n",
    "vacia_5"
   ]
  },
  {
   "cell_type": "markdown",
   "metadata": {},
   "source": [
    "# Practica 02: Creación de series a pratir de listas"
   ]
  },
  {
   "cell_type": "markdown",
   "metadata": {},
   "source": [
    "Crea 3 series de pandas"
   ]
  },
  {
   "cell_type": "markdown",
   "metadata": {},
   "source": [
    "## SERIE NÚMEROS"
   ]
  },
  {
   "cell_type": "markdown",
   "metadata": {},
   "source": [
    "Crea una serie de pandas en la que se muestres 10 números"
   ]
  },
  {
   "cell_type": "code",
   "execution_count": 9,
   "metadata": {},
   "outputs": [
    {
     "data": {
      "text/plain": [
       "0     1\n",
       "1     2\n",
       "2     3\n",
       "3     4\n",
       "4     5\n",
       "5     6\n",
       "6     7\n",
       "7     8\n",
       "8     9\n",
       "9    10\n",
       "dtype: int64"
      ]
     },
     "execution_count": 9,
     "metadata": {},
     "output_type": "execute_result"
    }
   ],
   "source": [
    "numeros = [1,2,3,4,5,6,7,8,9,10]\n",
    "serie_numero = pd.Series(numeros)\n",
    "serie_numero"
   ]
  },
  {
   "cell_type": "markdown",
   "metadata": {},
   "source": [
    "## SERIE CIUDADES"
   ]
  },
  {
   "cell_type": "markdown",
   "metadata": {},
   "source": [
    "Crea una serie de pandas que contenga el nombre de cinco ciudades de México"
   ]
  },
  {
   "cell_type": "code",
   "execution_count": 10,
   "metadata": {},
   "outputs": [
    {
     "data": {
      "text/plain": [
       "0            CDMX\n",
       "1        Veracruz\n",
       "2    Villahermosa\n",
       "3          Merida\n",
       "4     Guadalajara\n",
       "dtype: object"
      ]
     },
     "execution_count": 10,
     "metadata": {},
     "output_type": "execute_result"
    }
   ],
   "source": [
    "ciudades_mex = [\"CDMX\",'Veracruz','Villahermosa','Merida','Guadalajara']\n",
    "serie_ciudades_mex = pd.Series(ciudades_mex)\n",
    "serie_ciudades_mex"
   ]
  },
  {
   "cell_type": "markdown",
   "metadata": {},
   "source": [
    "## SERIE ANIMALES QUE SON MASCOTAS"
   ]
  },
  {
   "cell_type": "markdown",
   "metadata": {},
   "source": [
    "Crea una serie que contenga 4 especies de animales que sean considerados mascotas "
   ]
  },
  {
   "cell_type": "code",
   "execution_count": 11,
   "metadata": {},
   "outputs": [
    {
     "data": {
      "text/plain": [
       "0      Perro\n",
       "1    Hamster\n",
       "2       Gato\n",
       "3    Canario\n",
       "dtype: object"
      ]
     },
     "execution_count": 11,
     "metadata": {},
     "output_type": "execute_result"
    }
   ],
   "source": [
    "mascotas = [\"Perro\",\"Hamster\",\"Gato\",\"Canario\"]\n",
    "serie_mascotas = pd.Series(mascotas)\n",
    "serie_mascotas"
   ]
  },
  {
   "cell_type": "markdown",
   "metadata": {},
   "source": [
    "# Practica 03: Creación de Pandas Series a partir de Numpy Arrays"
   ]
  },
  {
   "cell_type": "markdown",
   "metadata": {},
   "source": [
    "Crea 3 series de Pandas a partir de Numpys Arrays"
   ]
  },
  {
   "cell_type": "markdown",
   "metadata": {},
   "source": [
    "## SERIE PERSONAJES DE ANIME"
   ]
  },
  {
   "cell_type": "markdown",
   "metadata": {},
   "source": [
    "Crea una serie que contenga 6 personajes de anime"
   ]
  },
  {
   "cell_type": "code",
   "execution_count": 14,
   "metadata": {},
   "outputs": [
    {
     "data": {
      "text/plain": [
       "0     Luffy\n",
       "1     Seiya\n",
       "2      Goku\n",
       "3      Eren\n",
       "4      Ikki\n",
       "5    Vegeta\n",
       "dtype: object"
      ]
     },
     "execution_count": 14,
     "metadata": {},
     "output_type": "execute_result"
    }
   ],
   "source": [
    "np_personaje = np.array(['Luffy','Seiya','Goku','Eren','Ikki','Vegeta'])\n",
    "serie_np_personaje = pd.Series(np_personaje)\n",
    "serie_np_personaje "
   ]
  },
  {
   "cell_type": "markdown",
   "metadata": {},
   "source": [
    "## SERIE LIBROS"
   ]
  },
  {
   "cell_type": "markdown",
   "metadata": {},
   "source": [
    "Crea una serie que contenga 5 titulos libros de cualquier tema"
   ]
  },
  {
   "cell_type": "code",
   "execution_count": 15,
   "metadata": {},
   "outputs": [
    {
     "data": {
      "text/plain": [
       "0            Hyperfocus\n",
       "1       Fueras de Serie\n",
       "2        El cisne negro\n",
       "3            Originales\n",
       "4    El dominio mundial\n",
       "dtype: object"
      ]
     },
     "execution_count": 15,
     "metadata": {},
     "output_type": "execute_result"
    }
   ],
   "source": [
    "np_libros = np.array(['Hyperfocus','Fueras de Serie','El cisne negro','Originales','El dominio mundial'])\n",
    "serie_np_libros = pd.Series(np_libros)\n",
    "serie_np_libros"
   ]
  },
  {
   "cell_type": "markdown",
   "metadata": {},
   "source": [
    "## SERIE SISTEMA SOLAR"
   ]
  },
  {
   "cell_type": "markdown",
   "metadata": {},
   "source": [
    "Crea una serie que contenga el nombre de 5 cuerpos celestes del sistema solar"
   ]
  },
  {
   "cell_type": "code",
   "execution_count": 16,
   "metadata": {},
   "outputs": [
    {
     "data": {
      "text/plain": [
       "0     Tierra\n",
       "1      Marte\n",
       "2      Urano\n",
       "3    Jupiter\n",
       "4    Saturno\n",
       "dtype: object"
      ]
     },
     "execution_count": 16,
     "metadata": {},
     "output_type": "execute_result"
    }
   ],
   "source": [
    "np_sistema_solar = ['Tierra','Marte','Urano','Jupiter','Saturno']\n",
    "serie_np_sistema_solar = pd.Series(np_sistema_solar)\n",
    "serie_np_sistema_solar"
   ]
  },
  {
   "cell_type": "markdown",
   "metadata": {},
   "source": [
    "# Practica 04: Creación de Pandas Series a partir de diccionarios"
   ]
  },
  {
   "cell_type": "markdown",
   "metadata": {},
   "source": [
    "Crea 3 Pandas series a partir de diciconarios "
   ]
  },
  {
   "cell_type": "markdown",
   "metadata": {},
   "source": [
    "## SERIE CIUDADES"
   ]
  },
  {
   "cell_type": "markdown",
   "metadata": {},
   "source": [
    "Crea una serie que contenga los nombres de 5 ciudades y su pobleción (puede ser falsa)"
   ]
  },
  {
   "cell_type": "code",
   "execution_count": 17,
   "metadata": {},
   "outputs": [
    {
     "data": {
      "text/plain": [
       "Ciudad       [Villahermosa, Merida, Campeche]\n",
       "Poblacion            [250000, 320000, 220000]\n",
       "dtype: object"
      ]
     },
     "execution_count": 17,
     "metadata": {},
     "output_type": "execute_result"
    }
   ],
   "source": [
    "pob_ciudades = {\"Ciudad\":['Villahermosa',\"Merida\",\"Campeche\"],\"Poblacion\":[250000,320000,220000]}\n",
    "serie_pob_ciudades = pd.Series(pob_ciudades)\n",
    "serie_pob_ciudades"
   ]
  },
  {
   "cell_type": "markdown",
   "metadata": {},
   "source": [
    "## SERIE PLANTAS"
   ]
  },
  {
   "cell_type": "markdown",
   "metadata": {},
   "source": [
    "Crea una serie que contenga 6 tipos de plantas y a una categoría que las describa"
   ]
  },
  {
   "cell_type": "code",
   "execution_count": 18,
   "metadata": {},
   "outputs": [
    {
     "data": {
      "text/plain": [
       "Planta    [Tomate, Aguacate, Zanahoria, Uva, Cebolla, Ce...\n",
       "Tipo      [Frutal, Frutal, Hortaliza, Frutal, Hortaliza,...\n",
       "dtype: object"
      ]
     },
     "execution_count": 18,
     "metadata": {},
     "output_type": "execute_result"
    }
   ],
   "source": [
    "plantas = {'Planta':['Tomate','Aguacate','Zanahoria','Uva','Cebolla','Cedro'],'Tipo':['Frutal','Frutal','Hortaliza','Frutal','Hortaliza','Maderable']}\n",
    "serie_plantas = pd.Series(plantas)\n",
    "serie_plantas"
   ]
  },
  {
   "cell_type": "markdown",
   "metadata": {},
   "source": [
    "## SERIE NOMBRES"
   ]
  },
  {
   "cell_type": "markdown",
   "metadata": {},
   "source": [
    "Crea una serie que contenga 5 nombres de personas y si es nombre masculino, femenino o unisex"
   ]
  },
  {
   "cell_type": "code",
   "execution_count": 19,
   "metadata": {},
   "outputs": [
    {
     "data": {
      "text/plain": [
       "Nombre            [Andres, María, Alondra, Guadalupe, José]\n",
       "Tipo      [masculino, femenino, femenino, unisex, mascul...\n",
       "dtype: object"
      ]
     },
     "execution_count": 19,
     "metadata": {},
     "output_type": "execute_result"
    }
   ],
   "source": [
    "nombres = {'Nombre':['Andres','María','Alondra','Guadalupe','José'],'Tipo':['masculino','femenino','femenino','unisex','masculino']}\n",
    "serie_nombres = pd.Series(nombres)\n",
    "serie_nombres"
   ]
  }
 ],
 "metadata": {
  "kernelspec": {
   "display_name": "venv_pandas_ciEN",
   "language": "python",
   "name": "python3"
  },
  "language_info": {
   "codemirror_mode": {
    "name": "ipython",
    "version": 3
   },
   "file_extension": ".py",
   "mimetype": "text/x-python",
   "name": "python",
   "nbconvert_exporter": "python",
   "pygments_lexer": "ipython3",
   "version": "3.12.1"
  }
 },
 "nbformat": 4,
 "nbformat_minor": 2
}
