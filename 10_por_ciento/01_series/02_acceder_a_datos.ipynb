{
 "cells": [
  {
   "cell_type": "markdown",
   "metadata": {},
   "source": [
    "# Importación de librerías y módulos "
   ]
  },
  {
   "cell_type": "code",
   "execution_count": 1,
   "metadata": {},
   "outputs": [],
   "source": [
    "import pandas as pd\n",
    "import numpy as np"
   ]
  },
  {
   "cell_type": "markdown",
   "metadata": {},
   "source": [
    "# Practica 01: Acceder a un elemento especifico por indice "
   ]
  },
  {
   "cell_type": "markdown",
   "metadata": {},
   "source": [
    "Crea 3 series de pandas y accede a uno de sus elementos"
   ]
  },
  {
   "cell_type": "markdown",
   "metadata": {},
   "source": [
    "## Serie números"
   ]
  },
  {
   "cell_type": "markdown",
   "metadata": {},
   "source": [
    "Crea una pandas series con numero y accede al elemento que se encuntre en la posición 3"
   ]
  },
  {
   "cell_type": "code",
   "execution_count": 15,
   "metadata": {},
   "outputs": [
    {
     "data": {
      "text/plain": [
       "0     1\n",
       "1     2\n",
       "2     3\n",
       "3     4\n",
       "4     5\n",
       "5     6\n",
       "6     7\n",
       "7     8\n",
       "8     9\n",
       "9    10\n",
       "dtype: int64"
      ]
     },
     "execution_count": 15,
     "metadata": {},
     "output_type": "execute_result"
    }
   ],
   "source": [
    "numeros = [1,2,3,4,5,6,7,8,9,10]\n",
    "serie_numeros = pd.Series(numeros)\n",
    "serie_numeros"
   ]
  },
  {
   "cell_type": "code",
   "execution_count": 18,
   "metadata": {},
   "outputs": [
    {
     "data": {
      "text/plain": [
       "4"
      ]
     },
     "execution_count": 18,
     "metadata": {},
     "output_type": "execute_result"
    }
   ],
   "source": [
    "numero = serie_numeros[3]\n",
    "numero"
   ]
  },
  {
   "cell_type": "markdown",
   "metadata": {},
   "source": [
    "## SERIE CIUDADES "
   ]
  },
  {
   "cell_type": "markdown",
   "metadata": {},
   "source": [
    "Crea una serie de pandas que contenga el nombre de seis ciudades de Estados Unidos e imprime la ciudad que este en la posición 4"
   ]
  },
  {
   "cell_type": "code",
   "execution_count": 21,
   "metadata": {},
   "outputs": [
    {
     "data": {
      "text/plain": [
       "0    San Francisco\n",
       "1      Los Angeles\n",
       "2            Miami\n",
       "3          Houston\n",
       "4       Nueva York\n",
       "5        Washinton\n",
       "dtype: object"
      ]
     },
     "execution_count": 21,
     "metadata": {},
     "output_type": "execute_result"
    }
   ],
   "source": [
    "ciudades = ['San Francisco','Los Angeles','Miami','Houston','Nueva York','Washinton']\n",
    "serie_ciudades = pd.Series(ciudades)\n",
    "serie_ciudades"
   ]
  },
  {
   "cell_type": "code",
   "execution_count": 22,
   "metadata": {},
   "outputs": [
    {
     "data": {
      "text/plain": [
       "'Nueva York'"
      ]
     },
     "execution_count": 22,
     "metadata": {},
     "output_type": "execute_result"
    }
   ],
   "source": [
    "ciudad = serie_ciudades[4]\n",
    "ciudad"
   ]
  },
  {
   "cell_type": "markdown",
   "metadata": {},
   "source": [
    "## SERIE ANIMALES QUE SON SALVAJES"
   ]
  },
  {
   "cell_type": "markdown",
   "metadata": {},
   "source": [
    "Crea una serie que contenga 4 especies de animales que sean considerados salvaje e imprime el animal que este en la posición 2"
   ]
  },
  {
   "cell_type": "code",
   "execution_count": 23,
   "metadata": {},
   "outputs": [
    {
     "data": {
      "text/plain": [
       "0    Cocodrilo\n",
       "1          Oso\n",
       "2         Lobo\n",
       "3         León\n",
       "dtype: object"
      ]
     },
     "execution_count": 23,
     "metadata": {},
     "output_type": "execute_result"
    }
   ],
   "source": [
    "animales_salvajes = ['Cocodrilo','Oso','Lobo','León']\n",
    "serie_animales_salvajes = pd.Series(animales_salvajes)\n",
    "serie_animales_salvajes"
   ]
  },
  {
   "cell_type": "code",
   "execution_count": 24,
   "metadata": {},
   "outputs": [
    {
     "data": {
      "text/plain": [
       "'Lobo'"
      ]
     },
     "execution_count": 24,
     "metadata": {},
     "output_type": "execute_result"
    }
   ],
   "source": [
    "animal_salvaje = serie_animales_salvajes[2]\n",
    "animal_salvaje"
   ]
  },
  {
   "cell_type": "markdown",
   "metadata": {},
   "source": [
    "# Practica 02:obtén un subconjunto de la serie"
   ]
  },
  {
   "cell_type": "markdown",
   "metadata": {},
   "source": [
    "Crea 3 series de pandas y accede a una sección de sus datos"
   ]
  },
  {
   "cell_type": "markdown",
   "metadata": {},
   "source": [
    "## SERIE PAISES"
   ]
  },
  {
   "cell_type": "markdown",
   "metadata": {},
   "source": [
    "Crea una serie de pandas que contenga el nombre de diez paises del mundo e imprime los paises que esten entre la posición 3 y 6"
   ]
  },
  {
   "cell_type": "code",
   "execution_count": 4,
   "metadata": {},
   "outputs": [
    {
     "name": "stdout",
     "output_type": "stream",
     "text": [
      "0       México\n",
      "1        Dubai\n",
      "2        China\n",
      "3     Portugal\n",
      "4      Nigeria\n",
      "5    Australia\n",
      "6      Francia\n",
      "7        Rusia\n",
      "8       Canada\n",
      "9       Brazil\n",
      "dtype: object\n",
      "3     Portugal\n",
      "4      Nigeria\n",
      "5    Australia\n",
      "dtype: object\n"
     ]
    }
   ],
   "source": [
    "paises = [\"México\",\"Dubai\", \"China\",\"Portugal\", \"Nigeria\",\"Australia\",\"Francia\",\"Rusia\",\"Canada\",\"Brazil\"]\n",
    "serie_paises = pd.Series(paises)\n",
    "print(serie_paises)\n",
    "seccion_serie = serie_paises[3:6]\n",
    "print(seccion_serie)\n"
   ]
  },
  {
   "cell_type": "markdown",
   "metadata": {},
   "source": [
    "## SERIE RÍOS"
   ]
  },
  {
   "cell_type": "markdown",
   "metadata": {},
   "source": [
    "Crea una serie con datos de 6 ríos e imprime los datos que esten entre la posición 0 y 5\n"
   ]
  },
  {
   "cell_type": "code",
   "execution_count": 6,
   "metadata": {},
   "outputs": [
    {
     "name": "stdout",
     "output_type": "stream",
     "text": [
      "0      Grijalva\n",
      "1    Usuamcinta\n",
      "2         Bravo\n",
      "3     Missisipi\n",
      "4          Nilo\n",
      "5      Amazonas\n",
      "dtype: object\n",
      "0      Grijalva\n",
      "1    Usuamcinta\n",
      "2         Bravo\n",
      "3     Missisipi\n",
      "4          Nilo\n",
      "dtype: object\n"
     ]
    }
   ],
   "source": [
    "rios = ['Grijalva','Usuamcinta','Bravo','Missisipi','Nilo','Amazonas']\n",
    "serie_rios = pd.Series(rios)\n",
    "print(serie_rios)\n",
    "seccion_rios = serie_rios[0:5]\n",
    "print(seccion_rios)"
   ]
  },
  {
   "cell_type": "markdown",
   "metadata": {},
   "source": [
    "## SERIE REYES"
   ]
  },
  {
   "cell_type": "markdown",
   "metadata": {},
   "source": [
    "Crea una serie que contenga 10 nombres de reyes famosos e imprime los elementos que están entre la posición 3 y 7"
   ]
  },
  {
   "cell_type": "code",
   "execution_count": 9,
   "metadata": {},
   "outputs": [
    {
     "name": "stdout",
     "output_type": "stream",
     "text": [
      "0               Arturo\n",
      "1             Leonidas\n",
      "2             Carlos V\n",
      "3           Felipe VII\n",
      "4             Luis XVI\n",
      "5             Luis XIV\n",
      "6         Enrique VIII\n",
      "7                Shaka\n",
      "8    Alfonso de Aragón\n",
      "9       Raknar Lokbrok\n",
      "dtype: object\n",
      "3      Felipe VII\n",
      "4        Luis XVI\n",
      "5        Luis XIV\n",
      "6    Enrique VIII\n",
      "dtype: object\n"
     ]
    }
   ],
   "source": [
    "reyes = ['Arturo','Leonidas','Carlos V','Felipe VII','Luis XVI','Luis XIV','Enrique VIII','Shaka','Alfonso de Aragón','Raknar Lokbrok']\n",
    "serie_reyes = pd.Series(reyes)\n",
    "print(serie_reyes)\n",
    "seccion_reyes = serie_reyes[3:7]\n",
    "print(seccion_reyes)"
   ]
  },
  {
   "cell_type": "markdown",
   "metadata": {},
   "source": [
    "# Practica 03: Selección de elementos por valor especifico"
   ]
  },
  {
   "cell_type": "markdown",
   "metadata": {},
   "source": [
    "Crea tres  series y desués busca en en cada una de ellas un valor especifico "
   ]
  },
  {
   "cell_type": "markdown",
   "metadata": {},
   "source": [
    "## SERIE MARCAS DE AUTOS"
   ]
  },
  {
   "cell_type": "markdown",
   "metadata": {},
   "source": [
    "Crea una serie que contenga 5 marcas de carros"
   ]
  },
  {
   "cell_type": "code",
   "execution_count": 11,
   "metadata": {},
   "outputs": [
    {
     "name": "stdout",
     "output_type": "stream",
     "text": [
      "0     Volks Vaguen\n",
      "1              GMC\n",
      "2             Ford\n",
      "3        Chevrolet\n",
      "4              VMW\n",
      "5    Mercedez Benz\n",
      "dtype: object\n",
      "4    VMW\n",
      "dtype: object\n"
     ]
    }
   ],
   "source": [
    "autos = ['Volks Vaguen','GMC','Ford','Chevrolet','VMW','Mercedez Benz']\n",
    "serie_autos = pd.Series(autos)\n",
    "print(serie_autos)\n",
    "valor_auto = serie_autos[serie_autos=='VMW']\n",
    "print(valor_auto)"
   ]
  },
  {
   "cell_type": "markdown",
   "metadata": {},
   "source": [
    "## SERIE NOMBRES"
   ]
  },
  {
   "cell_type": "markdown",
   "metadata": {},
   "source": [
    "Crea una serie que contenga 6 nombres de personas y luego busca uno de los nombres en la serie"
   ]
  },
  {
   "cell_type": "code",
   "execution_count": 14,
   "metadata": {},
   "outputs": [
    {
     "name": "stdout",
     "output_type": "stream",
     "text": [
      "0      Sara\n",
      "1     Luisa\n",
      "2       Ana\n",
      "3    Pamela\n",
      "4    Silvia\n",
      "5    Teresa\n",
      "dtype: object\n",
      "4    Silvia\n",
      "dtype: object\n"
     ]
    }
   ],
   "source": [
    "nombres = ['Sara','Luisa','Ana', 'Pamela','Silvia','Teresa']\n",
    "serie_nombres = pd.Series(nombres)\n",
    "print(serie_nombres)\n",
    "valor_nombre = serie_nombres[serie_nombres=='Silvia']\n",
    "print(valor_nombre)"
   ]
  },
  {
   "cell_type": "markdown",
   "metadata": {},
   "source": [
    "## SERIE ISLAS "
   ]
  },
  {
   "cell_type": "markdown",
   "metadata": {},
   "source": [
    "Crea una serie con 4 nombres de islas, luego selecciona una e imprimela"
   ]
  },
  {
   "cell_type": "code",
   "execution_count": 15,
   "metadata": {},
   "outputs": [
    {
     "name": "stdout",
     "output_type": "stream",
     "text": [
      "0    Nueva Zelanda\n",
      "1         Islandia\n",
      "2          Cozumel\n",
      "3          Sicilia\n",
      "dtype: object\n",
      "2    Cozumel\n",
      "dtype: object\n"
     ]
    }
   ],
   "source": [
    "islas = ['Nueva Zelanda','Islandia','Cozumel','Sicilia']\n",
    "serie_islas = pd.Series(islas)\n",
    "print(serie_islas)\n",
    "valor_isla = serie_islas[serie_islas=='Cozumel']\n",
    "print(valor_isla)"
   ]
  },
  {
   "cell_type": "markdown",
   "metadata": {},
   "source": [
    "# Practica 04: Obtener información descripitva de la serie"
   ]
  },
  {
   "cell_type": "markdown",
   "metadata": {},
   "source": [
    "Crea tres series e imprime la información descriptiva de cada una de ellas"
   ]
  },
  {
   "cell_type": "markdown",
   "metadata": {},
   "source": [
    "## SERIE NÚMEROS"
   ]
  },
  {
   "cell_type": "markdown",
   "metadata": {},
   "source": [
    "Crea una serie que contenga una secuencia de números con incrementos de 10 que partan desde 0 y llegue a 200"
   ]
  },
  {
   "cell_type": "code",
   "execution_count": 2,
   "metadata": {},
   "outputs": [
    {
     "name": "stdout",
     "output_type": "stream",
     "text": [
      "0       0\n",
      "1      10\n",
      "2      20\n",
      "3      30\n",
      "4      40\n",
      "5      50\n",
      "6      60\n",
      "7      70\n",
      "8      80\n",
      "9      90\n",
      "10    100\n",
      "11    110\n",
      "12    120\n",
      "13    130\n",
      "14    140\n",
      "15    150\n",
      "16    160\n",
      "17    170\n",
      "18    180\n",
      "19    190\n",
      "20    200\n",
      "dtype: int64\n",
      "\n",
      "count     21.000000\n",
      "mean     100.000000\n",
      "std       62.048368\n",
      "min        0.000000\n",
      "25%       50.000000\n",
      "50%      100.000000\n",
      "75%      150.000000\n",
      "max      200.000000\n",
      "dtype: float64\n"
     ]
    }
   ],
   "source": [
    "secuencia = [0,10,20,30,40,50,60,70,80,90,100,110,120,130,140,150,160,170,180,190,200]\n",
    "serie_secuencia = pd.Series(secuencia)\n",
    "print(serie_secuencia)\n",
    "print(\"\")\n",
    "info_secuencia = serie_secuencia.describe()\n",
    "print(info_secuencia)"
   ]
  },
  {
   "cell_type": "markdown",
   "metadata": {},
   "source": []
  }
 ],
 "metadata": {
  "kernelspec": {
   "display_name": "venv_pandas_ciEN",
   "language": "python",
   "name": "python3"
  },
  "language_info": {
   "codemirror_mode": {
    "name": "ipython",
    "version": 3
   },
   "file_extension": ".py",
   "mimetype": "text/x-python",
   "name": "python",
   "nbconvert_exporter": "python",
   "pygments_lexer": "ipython3",
   "version": "3.12.1"
  }
 },
 "nbformat": 4,
 "nbformat_minor": 2
}
